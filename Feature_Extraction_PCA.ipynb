{
  "metadata": {
    "kernelspec": {
      "language": "python",
      "display_name": "Python 3",
      "name": "python3"
    },
    "language_info": {
      "name": "python",
      "version": "3.10.13",
      "mimetype": "text/x-python",
      "codemirror_mode": {
        "name": "ipython",
        "version": 3
      },
      "pygments_lexer": "ipython3",
      "nbconvert_exporter": "python",
      "file_extension": ".py"
    },
    "kaggle": {
      "accelerator": "none",
      "dataSources": [
        {
          "sourceId": 3004,
          "databundleVersionId": 861823,
          "sourceType": "competition"
        }
      ],
      "dockerImageVersionId": 30715,
      "isInternetEnabled": false,
      "language": "python",
      "sourceType": "notebook",
      "isGpuEnabled": false
    },
    "colab": {
      "provenance": [],
      "include_colab_link": true
    }
  },
  "nbformat_minor": 0,
  "nbformat": 4,
  "cells": [
    {
      "cell_type": "markdown",
      "metadata": {
        "id": "view-in-github",
        "colab_type": "text"
      },
      "source": [
        "<a href=\"https://colab.research.google.com/github/Ashu598/Feature-Extraction-PCA/blob/main/Feature_Extraction_PCA.ipynb\" target=\"_parent\"><img src=\"https://colab.research.google.com/assets/colab-badge.svg\" alt=\"Open In Colab\"/></a>"
      ]
    },
    {
      "cell_type": "code",
      "source": [
        "# Downloaded data from kaggle in Zip file, extracting the file and saving it in collab folder\n",
        "import zipfile\n",
        "zip_ref = zipfile.ZipFile('/content/train.csv.zip', 'r')\n",
        "zip_ref.extractall('/content')\n",
        "zip_ref.close()"
      ],
      "metadata": {
        "id": "4xSRonStVvZ7"
      },
      "execution_count": null,
      "outputs": []
    },
    {
      "cell_type": "code",
      "source": [
        "df = pd.read_csv(\"/content/train.csv\")\n",
        "df.sample(3)"
      ],
      "metadata": {
        "execution": {
          "iopub.status.busy": "2024-06-02T08:50:22.289968Z",
          "iopub.execute_input": "2024-06-02T08:50:22.29042Z",
          "iopub.status.idle": "2024-06-02T08:50:25.821026Z",
          "shell.execute_reply.started": "2024-06-02T08:50:22.290391Z",
          "shell.execute_reply": "2024-06-02T08:50:25.819838Z"
        },
        "trusted": true,
        "id": "1YCI2otcSp1i",
        "outputId": "6374d20d-795d-4415-9036-9069cba40c40",
        "colab": {
          "base_uri": "https://localhost:8080/",
          "height": 193
        }
      },
      "outputs": [
        {
          "output_type": "execute_result",
          "data": {
            "text/plain": [
              "       label  pixel0  pixel1  pixel2  pixel3  pixel4  pixel5  pixel6  pixel7  \\\n",
              "10961      0       0       0       0       0       0       0       0       0   \n",
              "9426       8       0       0       0       0       0       0       0       0   \n",
              "7172       0       0       0       0       0       0       0       0       0   \n",
              "\n",
              "       pixel8  ...  pixel774  pixel775  pixel776  pixel777  pixel778  \\\n",
              "10961       0  ...         0         0         0         0         0   \n",
              "9426        0  ...         0         0         0         0         0   \n",
              "7172        0  ...         0         0         0         0         0   \n",
              "\n",
              "       pixel779  pixel780  pixel781  pixel782  pixel783  \n",
              "10961         0         0         0         0         0  \n",
              "9426          0         0         0         0         0  \n",
              "7172          0         0         0         0         0  \n",
              "\n",
              "[3 rows x 785 columns]"
            ],
            "text/html": [
              "\n",
              "  <div id=\"df-d2c24083-2ca7-46e2-b52e-cf5ed7928087\" class=\"colab-df-container\">\n",
              "    <div>\n",
              "<style scoped>\n",
              "    .dataframe tbody tr th:only-of-type {\n",
              "        vertical-align: middle;\n",
              "    }\n",
              "\n",
              "    .dataframe tbody tr th {\n",
              "        vertical-align: top;\n",
              "    }\n",
              "\n",
              "    .dataframe thead th {\n",
              "        text-align: right;\n",
              "    }\n",
              "</style>\n",
              "<table border=\"1\" class=\"dataframe\">\n",
              "  <thead>\n",
              "    <tr style=\"text-align: right;\">\n",
              "      <th></th>\n",
              "      <th>label</th>\n",
              "      <th>pixel0</th>\n",
              "      <th>pixel1</th>\n",
              "      <th>pixel2</th>\n",
              "      <th>pixel3</th>\n",
              "      <th>pixel4</th>\n",
              "      <th>pixel5</th>\n",
              "      <th>pixel6</th>\n",
              "      <th>pixel7</th>\n",
              "      <th>pixel8</th>\n",
              "      <th>...</th>\n",
              "      <th>pixel774</th>\n",
              "      <th>pixel775</th>\n",
              "      <th>pixel776</th>\n",
              "      <th>pixel777</th>\n",
              "      <th>pixel778</th>\n",
              "      <th>pixel779</th>\n",
              "      <th>pixel780</th>\n",
              "      <th>pixel781</th>\n",
              "      <th>pixel782</th>\n",
              "      <th>pixel783</th>\n",
              "    </tr>\n",
              "  </thead>\n",
              "  <tbody>\n",
              "    <tr>\n",
              "      <th>10961</th>\n",
              "      <td>0</td>\n",
              "      <td>0</td>\n",
              "      <td>0</td>\n",
              "      <td>0</td>\n",
              "      <td>0</td>\n",
              "      <td>0</td>\n",
              "      <td>0</td>\n",
              "      <td>0</td>\n",
              "      <td>0</td>\n",
              "      <td>0</td>\n",
              "      <td>...</td>\n",
              "      <td>0</td>\n",
              "      <td>0</td>\n",
              "      <td>0</td>\n",
              "      <td>0</td>\n",
              "      <td>0</td>\n",
              "      <td>0</td>\n",
              "      <td>0</td>\n",
              "      <td>0</td>\n",
              "      <td>0</td>\n",
              "      <td>0</td>\n",
              "    </tr>\n",
              "    <tr>\n",
              "      <th>9426</th>\n",
              "      <td>8</td>\n",
              "      <td>0</td>\n",
              "      <td>0</td>\n",
              "      <td>0</td>\n",
              "      <td>0</td>\n",
              "      <td>0</td>\n",
              "      <td>0</td>\n",
              "      <td>0</td>\n",
              "      <td>0</td>\n",
              "      <td>0</td>\n",
              "      <td>...</td>\n",
              "      <td>0</td>\n",
              "      <td>0</td>\n",
              "      <td>0</td>\n",
              "      <td>0</td>\n",
              "      <td>0</td>\n",
              "      <td>0</td>\n",
              "      <td>0</td>\n",
              "      <td>0</td>\n",
              "      <td>0</td>\n",
              "      <td>0</td>\n",
              "    </tr>\n",
              "    <tr>\n",
              "      <th>7172</th>\n",
              "      <td>0</td>\n",
              "      <td>0</td>\n",
              "      <td>0</td>\n",
              "      <td>0</td>\n",
              "      <td>0</td>\n",
              "      <td>0</td>\n",
              "      <td>0</td>\n",
              "      <td>0</td>\n",
              "      <td>0</td>\n",
              "      <td>0</td>\n",
              "      <td>...</td>\n",
              "      <td>0</td>\n",
              "      <td>0</td>\n",
              "      <td>0</td>\n",
              "      <td>0</td>\n",
              "      <td>0</td>\n",
              "      <td>0</td>\n",
              "      <td>0</td>\n",
              "      <td>0</td>\n",
              "      <td>0</td>\n",
              "      <td>0</td>\n",
              "    </tr>\n",
              "  </tbody>\n",
              "</table>\n",
              "<p>3 rows × 785 columns</p>\n",
              "</div>\n",
              "    <div class=\"colab-df-buttons\">\n",
              "\n",
              "  <div class=\"colab-df-container\">\n",
              "    <button class=\"colab-df-convert\" onclick=\"convertToInteractive('df-d2c24083-2ca7-46e2-b52e-cf5ed7928087')\"\n",
              "            title=\"Convert this dataframe to an interactive table.\"\n",
              "            style=\"display:none;\">\n",
              "\n",
              "  <svg xmlns=\"http://www.w3.org/2000/svg\" height=\"24px\" viewBox=\"0 -960 960 960\">\n",
              "    <path d=\"M120-120v-720h720v720H120Zm60-500h600v-160H180v160Zm220 220h160v-160H400v160Zm0 220h160v-160H400v160ZM180-400h160v-160H180v160Zm440 0h160v-160H620v160ZM180-180h160v-160H180v160Zm440 0h160v-160H620v160Z\"/>\n",
              "  </svg>\n",
              "    </button>\n",
              "\n",
              "  <style>\n",
              "    .colab-df-container {\n",
              "      display:flex;\n",
              "      gap: 12px;\n",
              "    }\n",
              "\n",
              "    .colab-df-convert {\n",
              "      background-color: #E8F0FE;\n",
              "      border: none;\n",
              "      border-radius: 50%;\n",
              "      cursor: pointer;\n",
              "      display: none;\n",
              "      fill: #1967D2;\n",
              "      height: 32px;\n",
              "      padding: 0 0 0 0;\n",
              "      width: 32px;\n",
              "    }\n",
              "\n",
              "    .colab-df-convert:hover {\n",
              "      background-color: #E2EBFA;\n",
              "      box-shadow: 0px 1px 2px rgba(60, 64, 67, 0.3), 0px 1px 3px 1px rgba(60, 64, 67, 0.15);\n",
              "      fill: #174EA6;\n",
              "    }\n",
              "\n",
              "    .colab-df-buttons div {\n",
              "      margin-bottom: 4px;\n",
              "    }\n",
              "\n",
              "    [theme=dark] .colab-df-convert {\n",
              "      background-color: #3B4455;\n",
              "      fill: #D2E3FC;\n",
              "    }\n",
              "\n",
              "    [theme=dark] .colab-df-convert:hover {\n",
              "      background-color: #434B5C;\n",
              "      box-shadow: 0px 1px 3px 1px rgba(0, 0, 0, 0.15);\n",
              "      filter: drop-shadow(0px 1px 2px rgba(0, 0, 0, 0.3));\n",
              "      fill: #FFFFFF;\n",
              "    }\n",
              "  </style>\n",
              "\n",
              "    <script>\n",
              "      const buttonEl =\n",
              "        document.querySelector('#df-d2c24083-2ca7-46e2-b52e-cf5ed7928087 button.colab-df-convert');\n",
              "      buttonEl.style.display =\n",
              "        google.colab.kernel.accessAllowed ? 'block' : 'none';\n",
              "\n",
              "      async function convertToInteractive(key) {\n",
              "        const element = document.querySelector('#df-d2c24083-2ca7-46e2-b52e-cf5ed7928087');\n",
              "        const dataTable =\n",
              "          await google.colab.kernel.invokeFunction('convertToInteractive',\n",
              "                                                    [key], {});\n",
              "        if (!dataTable) return;\n",
              "\n",
              "        const docLinkHtml = 'Like what you see? Visit the ' +\n",
              "          '<a target=\"_blank\" href=https://colab.research.google.com/notebooks/data_table.ipynb>data table notebook</a>'\n",
              "          + ' to learn more about interactive tables.';\n",
              "        element.innerHTML = '';\n",
              "        dataTable['output_type'] = 'display_data';\n",
              "        await google.colab.output.renderOutput(dataTable, element);\n",
              "        const docLink = document.createElement('div');\n",
              "        docLink.innerHTML = docLinkHtml;\n",
              "        element.appendChild(docLink);\n",
              "      }\n",
              "    </script>\n",
              "  </div>\n",
              "\n",
              "\n",
              "<div id=\"df-64f8c59b-0b7f-41e1-85f5-ee3d062b5584\">\n",
              "  <button class=\"colab-df-quickchart\" onclick=\"quickchart('df-64f8c59b-0b7f-41e1-85f5-ee3d062b5584')\"\n",
              "            title=\"Suggest charts\"\n",
              "            style=\"display:none;\">\n",
              "\n",
              "<svg xmlns=\"http://www.w3.org/2000/svg\" height=\"24px\"viewBox=\"0 0 24 24\"\n",
              "     width=\"24px\">\n",
              "    <g>\n",
              "        <path d=\"M19 3H5c-1.1 0-2 .9-2 2v14c0 1.1.9 2 2 2h14c1.1 0 2-.9 2-2V5c0-1.1-.9-2-2-2zM9 17H7v-7h2v7zm4 0h-2V7h2v10zm4 0h-2v-4h2v4z\"/>\n",
              "    </g>\n",
              "</svg>\n",
              "  </button>\n",
              "\n",
              "<style>\n",
              "  .colab-df-quickchart {\n",
              "      --bg-color: #E8F0FE;\n",
              "      --fill-color: #1967D2;\n",
              "      --hover-bg-color: #E2EBFA;\n",
              "      --hover-fill-color: #174EA6;\n",
              "      --disabled-fill-color: #AAA;\n",
              "      --disabled-bg-color: #DDD;\n",
              "  }\n",
              "\n",
              "  [theme=dark] .colab-df-quickchart {\n",
              "      --bg-color: #3B4455;\n",
              "      --fill-color: #D2E3FC;\n",
              "      --hover-bg-color: #434B5C;\n",
              "      --hover-fill-color: #FFFFFF;\n",
              "      --disabled-bg-color: #3B4455;\n",
              "      --disabled-fill-color: #666;\n",
              "  }\n",
              "\n",
              "  .colab-df-quickchart {\n",
              "    background-color: var(--bg-color);\n",
              "    border: none;\n",
              "    border-radius: 50%;\n",
              "    cursor: pointer;\n",
              "    display: none;\n",
              "    fill: var(--fill-color);\n",
              "    height: 32px;\n",
              "    padding: 0;\n",
              "    width: 32px;\n",
              "  }\n",
              "\n",
              "  .colab-df-quickchart:hover {\n",
              "    background-color: var(--hover-bg-color);\n",
              "    box-shadow: 0 1px 2px rgba(60, 64, 67, 0.3), 0 1px 3px 1px rgba(60, 64, 67, 0.15);\n",
              "    fill: var(--button-hover-fill-color);\n",
              "  }\n",
              "\n",
              "  .colab-df-quickchart-complete:disabled,\n",
              "  .colab-df-quickchart-complete:disabled:hover {\n",
              "    background-color: var(--disabled-bg-color);\n",
              "    fill: var(--disabled-fill-color);\n",
              "    box-shadow: none;\n",
              "  }\n",
              "\n",
              "  .colab-df-spinner {\n",
              "    border: 2px solid var(--fill-color);\n",
              "    border-color: transparent;\n",
              "    border-bottom-color: var(--fill-color);\n",
              "    animation:\n",
              "      spin 1s steps(1) infinite;\n",
              "  }\n",
              "\n",
              "  @keyframes spin {\n",
              "    0% {\n",
              "      border-color: transparent;\n",
              "      border-bottom-color: var(--fill-color);\n",
              "      border-left-color: var(--fill-color);\n",
              "    }\n",
              "    20% {\n",
              "      border-color: transparent;\n",
              "      border-left-color: var(--fill-color);\n",
              "      border-top-color: var(--fill-color);\n",
              "    }\n",
              "    30% {\n",
              "      border-color: transparent;\n",
              "      border-left-color: var(--fill-color);\n",
              "      border-top-color: var(--fill-color);\n",
              "      border-right-color: var(--fill-color);\n",
              "    }\n",
              "    40% {\n",
              "      border-color: transparent;\n",
              "      border-right-color: var(--fill-color);\n",
              "      border-top-color: var(--fill-color);\n",
              "    }\n",
              "    60% {\n",
              "      border-color: transparent;\n",
              "      border-right-color: var(--fill-color);\n",
              "    }\n",
              "    80% {\n",
              "      border-color: transparent;\n",
              "      border-right-color: var(--fill-color);\n",
              "      border-bottom-color: var(--fill-color);\n",
              "    }\n",
              "    90% {\n",
              "      border-color: transparent;\n",
              "      border-bottom-color: var(--fill-color);\n",
              "    }\n",
              "  }\n",
              "</style>\n",
              "\n",
              "  <script>\n",
              "    async function quickchart(key) {\n",
              "      const quickchartButtonEl =\n",
              "        document.querySelector('#' + key + ' button');\n",
              "      quickchartButtonEl.disabled = true;  // To prevent multiple clicks.\n",
              "      quickchartButtonEl.classList.add('colab-df-spinner');\n",
              "      try {\n",
              "        const charts = await google.colab.kernel.invokeFunction(\n",
              "            'suggestCharts', [key], {});\n",
              "      } catch (error) {\n",
              "        console.error('Error during call to suggestCharts:', error);\n",
              "      }\n",
              "      quickchartButtonEl.classList.remove('colab-df-spinner');\n",
              "      quickchartButtonEl.classList.add('colab-df-quickchart-complete');\n",
              "    }\n",
              "    (() => {\n",
              "      let quickchartButtonEl =\n",
              "        document.querySelector('#df-64f8c59b-0b7f-41e1-85f5-ee3d062b5584 button');\n",
              "      quickchartButtonEl.style.display =\n",
              "        google.colab.kernel.accessAllowed ? 'block' : 'none';\n",
              "    })();\n",
              "  </script>\n",
              "</div>\n",
              "\n",
              "    </div>\n",
              "  </div>\n"
            ],
            "application/vnd.google.colaboratory.intrinsic+json": {
              "type": "dataframe"
            }
          },
          "metadata": {},
          "execution_count": 7
        }
      ],
      "execution_count": null
    },
    {
      "cell_type": "code",
      "source": [
        "df.shape"
      ],
      "metadata": {
        "execution": {
          "iopub.status.busy": "2024-06-02T08:50:25.822925Z",
          "iopub.execute_input": "2024-06-02T08:50:25.8237Z",
          "iopub.status.idle": "2024-06-02T08:50:25.831868Z",
          "shell.execute_reply.started": "2024-06-02T08:50:25.82366Z",
          "shell.execute_reply": "2024-06-02T08:50:25.830748Z"
        },
        "trusted": true,
        "id": "0C6Cc-mJSp1l",
        "outputId": "a3da9ec3-c0eb-4e41-a652-731db29ce3eb",
        "colab": {
          "base_uri": "https://localhost:8080/"
        }
      },
      "outputs": [
        {
          "output_type": "execute_result",
          "data": {
            "text/plain": [
              "(42000, 785)"
            ]
          },
          "metadata": {},
          "execution_count": 8
        }
      ],
      "execution_count": null
    },
    {
      "cell_type": "code",
      "source": [
        "import matplotlib.pyplot as plt\n"
      ],
      "metadata": {
        "execution": {
          "iopub.status.busy": "2024-06-02T08:50:25.835085Z",
          "iopub.execute_input": "2024-06-02T08:50:25.836262Z",
          "iopub.status.idle": "2024-06-02T08:50:25.843857Z",
          "shell.execute_reply.started": "2024-06-02T08:50:25.836202Z",
          "shell.execute_reply": "2024-06-02T08:50:25.842638Z"
        },
        "trusted": true,
        "id": "FC2g-UtESp1m"
      },
      "outputs": [],
      "execution_count": null
    },
    {
      "cell_type": "code",
      "source": [
        "plt.imshow(df.iloc[41283,1:].values.reshape(28,28))  #Check a random sample"
      ],
      "metadata": {
        "execution": {
          "iopub.status.busy": "2024-06-02T08:50:25.845668Z",
          "iopub.execute_input": "2024-06-02T08:50:25.846077Z",
          "iopub.status.idle": "2024-06-02T08:50:26.136673Z",
          "shell.execute_reply.started": "2024-06-02T08:50:25.846039Z",
          "shell.execute_reply": "2024-06-02T08:50:26.135312Z"
        },
        "trusted": true,
        "id": "d6yTW2PXSp1p",
        "outputId": "5c475627-1b78-4780-884c-38388b03e5a8",
        "colab": {
          "base_uri": "https://localhost:8080/",
          "height": 447
        }
      },
      "outputs": [
        {
          "output_type": "execute_result",
          "data": {
            "text/plain": [
              "<matplotlib.image.AxesImage at 0x789024561ab0>"
            ]
          },
          "metadata": {},
          "execution_count": 10
        },
        {
          "output_type": "display_data",
          "data": {
            "text/plain": [
              "<Figure size 640x480 with 1 Axes>"
            ],
            "image/png": "[encoded data removed]"
          },
          "metadata": {}
        }
      ],
      "execution_count": null
    },
    {
      "cell_type": "code",
      "source": [
        "#deviding data into training and test\n",
        "X = df.iloc[:,1:]\n",
        "y = df.iloc[:,0]"
      ],
      "metadata": {
        "execution": {
          "iopub.status.busy": "2024-06-02T08:50:26.138943Z",
          "iopub.execute_input": "2024-06-02T08:50:26.139701Z",
          "iopub.status.idle": "2024-06-02T08:50:26.145512Z",
          "shell.execute_reply.started": "2024-06-02T08:50:26.139661Z",
          "shell.execute_reply": "2024-06-02T08:50:26.144466Z"
        },
        "trusted": true,
        "id": "JEOUE5EHSp1s"
      },
      "outputs": [],
      "execution_count": null
    },
    {
      "cell_type": "code",
      "source": [
        "from sklearn.model_selection import train_test_split\n",
        "X_train, X_test, y_train, y_test = train_test_split(X, y, test_size = 0.2, random_state =42)"
      ],
      "metadata": {
        "execution": {
          "iopub.status.busy": "2024-06-02T08:50:26.147168Z",
          "iopub.execute_input": "2024-06-02T08:50:26.148045Z",
          "iopub.status.idle": "2024-06-02T08:50:27.130972Z",
          "shell.execute_reply.started": "2024-06-02T08:50:26.148009Z",
          "shell.execute_reply": "2024-06-02T08:50:27.129775Z"
        },
        "trusted": true,
        "id": "i_MSiw1tSp1v"
      },
      "outputs": [],
      "execution_count": null
    },
    {
      "cell_type": "code",
      "source": [
        "from sklearn.neighbors import KNeighborsClassifier\n",
        "from sklearn.metrics import accuracy_score"
      ],
      "metadata": {
        "execution": {
          "iopub.status.busy": "2024-06-02T08:50:27.13227Z",
          "iopub.execute_input": "2024-06-02T08:50:27.132603Z",
          "iopub.status.idle": "2024-06-02T08:50:27.305786Z",
          "shell.execute_reply.started": "2024-06-02T08:50:27.132574Z",
          "shell.execute_reply": "2024-06-02T08:50:27.304686Z"
        },
        "trusted": true,
        "id": "F8N5FVXHSp1x"
      },
      "outputs": [],
      "execution_count": null
    },
    {
      "cell_type": "code",
      "source": [
        "knn = KNeighborsClassifier()\n",
        "knn.fit(X_train, y_train)"
      ],
      "metadata": {
        "execution": {
          "iopub.status.busy": "2024-06-02T08:50:27.306955Z",
          "iopub.execute_input": "2024-06-02T08:50:27.307267Z",
          "iopub.status.idle": "2024-06-02T08:50:27.485937Z",
          "shell.execute_reply.started": "2024-06-02T08:50:27.307237Z",
          "shell.execute_reply": "2024-06-02T08:50:27.484478Z"
        },
        "trusted": true,
        "id": "DIpP-o8BSp1y",
        "outputId": "12f87e17-a6ed-49ab-c5d9-1336ec50f1fa",
        "colab": {
          "base_uri": "https://localhost:8080/",
          "height": 80
        }
      },
      "outputs": [
        {
          "output_type": "execute_result",
          "data": {
            "text/plain": [
              "KNeighborsClassifier()"
            ],
            "text/html": [
              "<style>#sk-container-id-1 {\n",
              "  /* Definition of color scheme common for light and dark mode */\n",
              "  --sklearn-color-text: black;\n",
              "  --sklearn-color-line: gray;\n",
              "  /* Definition of color scheme for unfitted estimators */\n",
              "  --sklearn-color-unfitted-level-0: #fff5e6;\n",
              "  --sklearn-color-unfitted-level-1: #f6e4d2;\n",
              "  --sklearn-color-unfitted-level-2: #ffe0b3;\n",
              "  --sklearn-color-unfitted-level-3: chocolate;\n",
              "  /* Definition of color scheme for fitted estimators */\n",
              "  --sklearn-color-fitted-level-0: #f0f8ff;\n",
              "  --sklearn-color-fitted-level-1: #d4ebff;\n",
              "  --sklearn-color-fitted-level-2: #b3dbfd;\n",
              "  --sklearn-color-fitted-level-3: cornflowerblue;\n",
              "\n",
              "  /* Specific color for light theme */\n",
              "  --sklearn-color-text-on-default-background: var(--sg-text-color, var(--theme-code-foreground, var(--jp-content-font-color1, black)));\n",
              "  --sklearn-color-background: var(--sg-background-color, var(--theme-background, var(--jp-layout-color0, white)));\n",
              "  --sklearn-color-border-box: var(--sg-text-color, var(--theme-code-foreground, var(--jp-content-font-color1, black)));\n",
              "  --sklearn-color-icon: #696969;\n",
              "\n",
              "  @media (prefers-color-scheme: dark) {\n",
              "    /* Redefinition of color scheme for dark theme */\n",
              "    --sklearn-color-text-on-default-background: var(--sg-text-color, var(--theme-code-foreground, var(--jp-content-font-color1, white)));\n",
              "    --sklearn-color-background: var(--sg-background-color, var(--theme-background, var(--jp-layout-color0, #111)));\n",
              "    --sklearn-color-border-box: var(--sg-text-color, var(--theme-code-foreground, var(--jp-content-font-color1, white)));\n",
              "    --sklearn-color-icon: #878787;\n",
              "  }\n",
              "}\n",
              "\n",
              "#sk-container-id-1 {\n",
              "  color: var(--sklearn-color-text);\n",
              "}\n",
              "\n",
              "#sk-container-id-1 pre {\n",
              "  padding: 0;\n",
              "}\n",
              "\n",
              "#sk-container-id-1 input.sk-hidden--visually {\n",
              "  border: 0;\n",
              "  clip: rect(1px 1px 1px 1px);\n",
              "  clip: rect(1px, 1px, 1px, 1px);\n",
              "  height: 1px;\n",
              "  margin: -1px;\n",
              "  overflow: hidden;\n",
              "  padding: 0;\n",
              "  position: absolute;\n",
              "  width: 1px;\n",
              "}\n",
              "\n",
              "#sk-container-id-1 div.sk-dashed-wrapped {\n",
              "  border: 1px dashed var(--sklearn-color-line);\n",
              "  margin: 0 0.4em 0.5em 0.4em;\n",
              "  box-sizing: border-box;\n",
              "  padding-bottom: 0.4em;\n",
              "  background-color: var(--sklearn-color-background);\n",
              "}\n",
              "\n",
              "#sk-container-id-1 div.sk-container {\n",
              "  /* jupyter's `normalize.less` sets `[hidden] { display: none; }`\n",
              "     but bootstrap.min.css set `[hidden] { display: none !important; }`\n",
              "     so we also need the `!important` here to be able to override the\n",
              "     default hidden behavior on the sphinx rendered scikit-learn.org.\n",
              "     See: https://github.com/scikit-learn/scikit-learn/issues/21755 */\n",
              "  display: inline-block !important;\n",
              "  position: relative;\n",
              "}\n",
              "\n",
              "#sk-container-id-1 div.sk-text-repr-fallback {\n",
              "  display: none;\n",
              "}\n",
              "\n",
              "div.sk-parallel-item,\n",
              "div.sk-serial,\n",
              "div.sk-item {\n",
              "  /* draw centered vertical line to link estimators */\n",
              "  background-image: linear-gradient(var(--sklearn-color-text-on-default-background), var(--sklearn-color-text-on-default-background));\n",
              "  background-size: 2px 100%;\n",
              "  background-repeat: no-repeat;\n",
              "  background-position: center center;\n",
              "}\n",
              "\n",
              "/* Parallel-specific style estimator block */\n",
              "\n",
              "#sk-container-id-1 div.sk-parallel-item::after {\n",
              "  content: \"\";\n",
              "  width: 100%;\n",
              "  border-bottom: 2px solid var(--sklearn-color-text-on-default-background);\n",
              "  flex-grow: 1;\n",
              "}\n",
              "\n",
              "#sk-container-id-1 div.sk-parallel {\n",
              "  display: flex;\n",
              "  align-items: stretch;\n",
              "  justify-content: center;\n",
              "  background-color: var(--sklearn-color-background);\n",
              "  position: relative;\n",
              "}\n",
              "\n",
              "#sk-container-id-1 div.sk-parallel-item {\n",
              "  display: flex;\n",
              "  flex-direction: column;\n",
              "}\n",
              "\n",
              "#sk-container-id-1 div.sk-parallel-item:first-child::after {\n",
              "  align-self: flex-end;\n",
              "  width: 50%;\n",
              "}\n",
              "\n",
              "#sk-container-id-1 div.sk-parallel-item:last-child::after {\n",
              "  align-self: flex-start;\n",
              "  width: 50%;\n",
              "}\n",
              "\n",
              "#sk-container-id-1 div.sk-parallel-item:only-child::after {\n",
              "  width: 0;\n",
              "}\n",
              "\n",
              "/* Serial-specific style estimator block */\n",
              "\n",
              "#sk-container-id-1 div.sk-serial {\n",
              "  display: flex;\n",
              "  flex-direction: column;\n",
              "  align-items: center;\n",
              "  background-color: var(--sklearn-color-background);\n",
              "  padding-right: 1em;\n",
              "  padding-left: 1em;\n",
              "}\n",
              "\n",
              "\n",
              "/* Toggleable style: style used for estimator/Pipeline/ColumnTransformer box that is\n",
              "clickable and can be expanded/collapsed.\n",
              "- Pipeline and ColumnTransformer use this feature and define the default style\n",
              "- Estimators will overwrite some part of the style using the `sk-estimator` class\n",
              "*/\n",
              "\n",
              "/* Pipeline and ColumnTransformer style (default) */\n",
              "\n",
              "#sk-container-id-1 div.sk-toggleable {\n",
              "  /* Default theme specific background. It is overwritten whether we have a\n",
              "  specific estimator or a Pipeline/ColumnTransformer */\n",
              "  background-color: var(--sklearn-color-background);\n",
              "}\n",
              "\n",
              "/* Toggleable label */\n",
              "#sk-container-id-1 label.sk-toggleable__label {\n",
              "  cursor: pointer;\n",
              "  display: block;\n",
              "  width: 100%;\n",
              "  margin-bottom: 0;\n",
              "  padding: 0.5em;\n",
              "  box-sizing: border-box;\n",
              "  text-align: center;\n",
              "}\n",
              "\n",
              "#sk-container-id-1 label.sk-toggleable__label-arrow:before {\n",
              "  /* Arrow on the left of the label */\n",
              "  content: \"▸\";\n",
              "  float: left;\n",
              "  margin-right: 0.25em;\n",
              "  color: var(--sklearn-color-icon);\n",
              "}\n",
              "\n",
              "#sk-container-id-1 label.sk-toggleable__label-arrow:hover:before {\n",
              "  color: var(--sklearn-color-text);\n",
              "}\n",
              "\n",
              "/* Toggleable content - dropdown */\n",
              "\n",
              "#sk-container-id-1 div.sk-toggleable__content {\n",
              "  max-height: 0;\n",
              "  max-width: 0;\n",
              "  overflow: hidden;\n",
              "  text-align: left;\n",
              "  /* unfitted */\n",
              "  background-color: var(--sklearn-color-unfitted-level-0);\n",
              "}\n",
              "\n",
              "#sk-container-id-1 div.sk-toggleable__content.fitted {\n",
              "  /* fitted */\n",
              "  background-color: var(--sklearn-color-fitted-level-0);\n",
              "}\n",
              "\n",
              "#sk-container-id-1 div.sk-toggleable__content pre {\n",
              "  margin: 0.2em;\n",
              "  border-radius: 0.25em;\n",
              "  color: var(--sklearn-color-text);\n",
              "  /* unfitted */\n",
              "  background-color: var(--sklearn-color-unfitted-level-0);\n",
              "}\n",
              "\n",
              "#sk-container-id-1 div.sk-toggleable__content.fitted pre {\n",
              "  /* unfitted */\n",
              "  background-color: var(--sklearn-color-fitted-level-0);\n",
              "}\n",
              "\n",
              "#sk-container-id-1 input.sk-toggleable__control:checked~div.sk-toggleable__content {\n",
              "  /* Expand drop-down */\n",
              "  max-height: 200px;\n",
              "  max-width: 100%;\n",
              "  overflow: auto;\n",
              "}\n",
              "\n",
              "#sk-container-id-1 input.sk-toggleable__control:checked~label.sk-toggleable__label-arrow:before {\n",
              "  content: \"▾\";\n",
              "}\n",
              "\n",
              "/* Pipeline/ColumnTransformer-specific style */\n",
              "\n",
              "#sk-container-id-1 div.sk-label input.sk-toggleable__control:checked~label.sk-toggleable__label {\n",
              "  color: var(--sklearn-color-text);\n",
              "  background-color: var(--sklearn-color-unfitted-level-2);\n",
              "}\n",
              "\n",
              "#sk-container-id-1 div.sk-label.fitted input.sk-toggleable__control:checked~label.sk-toggleable__label {\n",
              "  background-color: var(--sklearn-color-fitted-level-2);\n",
              "}\n",
              "\n",
              "/* Estimator-specific style */\n",
              "\n",
              "/* Colorize estimator box */\n",
              "#sk-container-id-1 div.sk-estimator input.sk-toggleable__control:checked~label.sk-toggleable__label {\n",
              "  /* unfitted */\n",
              "  background-color: var(--sklearn-color-unfitted-level-2);\n",
              "}\n",
              "\n",
              "#sk-container-id-1 div.sk-estimator.fitted input.sk-toggleable__control:checked~label.sk-toggleable__label {\n",
              "  /* fitted */\n",
              "  background-color: var(--sklearn-color-fitted-level-2);\n",
              "}\n",
              "\n",
              "#sk-container-id-1 div.sk-label label.sk-toggleable__label,\n",
              "#sk-container-id-1 div.sk-label label {\n",
              "  /* The background is the default theme color */\n",
              "  color: var(--sklearn-color-text-on-default-background);\n",
              "}\n",
              "\n",
              "/* On hover, darken the color of the background */\n",
              "#sk-container-id-1 div.sk-label:hover label.sk-toggleable__label {\n",
              "  color: var(--sklearn-color-text);\n",
              "  background-color: var(--sklearn-color-unfitted-level-2);\n",
              "}\n",
              "\n",
              "/* Label box, darken color on hover, fitted */\n",
              "#sk-container-id-1 div.sk-label.fitted:hover label.sk-toggleable__label.fitted {\n",
              "  color: var(--sklearn-color-text);\n",
              "  background-color: var(--sklearn-color-fitted-level-2);\n",
              "}\n",
              "\n",
              "/* Estimator label */\n",
              "\n",
              "#sk-container-id-1 div.sk-label label {\n",
              "  font-family: monospace;\n",
              "  font-weight: bold;\n",
              "  display: inline-block;\n",
              "  line-height: 1.2em;\n",
              "}\n",
              "\n",
              "#sk-container-id-1 div.sk-label-container {\n",
              "  text-align: center;\n",
              "}\n",
              "\n",
              "/* Estimator-specific */\n",
              "#sk-container-id-1 div.sk-estimator {\n",
              "  font-family: monospace;\n",
              "  border: 1px dotted var(--sklearn-color-border-box);\n",
              "  border-radius: 0.25em;\n",
              "  box-sizing: border-box;\n",
              "  margin-bottom: 0.5em;\n",
              "  /* unfitted */\n",
              "  background-color: var(--sklearn-color-unfitted-level-0);\n",
              "}\n",
              "\n",
              "#sk-container-id-1 div.sk-estimator.fitted {\n",
              "  /* fitted */\n",
              "  background-color: var(--sklearn-color-fitted-level-0);\n",
              "}\n",
              "\n",
              "/* on hover */\n",
              "#sk-container-id-1 div.sk-estimator:hover {\n",
              "  /* unfitted */\n",
              "  background-color: var(--sklearn-color-unfitted-level-2);\n",
              "}\n",
              "\n",
              "#sk-container-id-1 div.sk-estimator.fitted:hover {\n",
              "  /* fitted */\n",
              "  background-color: var(--sklearn-color-fitted-level-2);\n",
              "}\n",
              "\n",
              "/* Specification for estimator info (e.g. \"i\" and \"?\") */\n",
              "\n",
              "/* Common style for \"i\" and \"?\" */\n",
              "\n",
              ".sk-estimator-doc-link,\n",
              "a:link.sk-estimator-doc-link,\n",
              "a:visited.sk-estimator-doc-link {\n",
              "  float: right;\n",
              "  font-size: smaller;\n",
              "  line-height: 1em;\n",
              "  font-family: monospace;\n",
              "  background-color: var(--sklearn-color-background);\n",
              "  border-radius: 1em;\n",
              "  height: 1em;\n",
              "  width: 1em;\n",
              "  text-decoration: none !important;\n",
              "  margin-left: 1ex;\n",
              "  /* unfitted */\n",
              "  border: var(--sklearn-color-unfitted-level-1) 1pt solid;\n",
              "  color: var(--sklearn-color-unfitted-level-1);\n",
              "}\n",
              "\n",
              ".sk-estimator-doc-link.fitted,\n",
              "a:link.sk-estimator-doc-link.fitted,\n",
              "a:visited.sk-estimator-doc-link.fitted {\n",
              "  /* fitted */\n",
              "  border: var(--sklearn-color-fitted-level-1) 1pt solid;\n",
              "  color: var(--sklearn-color-fitted-level-1);\n",
              "}\n",
              "\n",
              "/* On hover */\n",
              "div.sk-estimator:hover .sk-estimator-doc-link:hover,\n",
              ".sk-estimator-doc-link:hover,\n",
              "div.sk-label-container:hover .sk-estimator-doc-link:hover,\n",
              ".sk-estimator-doc-link:hover {\n",
              "  /* unfitted */\n",
              "  background-color: var(--sklearn-color-unfitted-level-3);\n",
              "  color: var(--sklearn-color-background);\n",
              "  text-decoration: none;\n",
              "}\n",
              "\n",
              "div.sk-estimator.fitted:hover .sk-estimator-doc-link.fitted:hover,\n",
              ".sk-estimator-doc-link.fitted:hover,\n",
              "div.sk-label-container:hover .sk-estimator-doc-link.fitted:hover,\n",
              ".sk-estimator-doc-link.fitted:hover {\n",
              "  /* fitted */\n",
              "  background-color: var(--sklearn-color-fitted-level-3);\n",
              "  color: var(--sklearn-color-background);\n",
              "  text-decoration: none;\n",
              "}\n",
              "\n",
              "/* Span, style for the box shown on hovering the info icon */\n",
              ".sk-estimator-doc-link span {\n",
              "  display: none;\n",
              "  z-index: 9999;\n",
              "  position: relative;\n",
              "  font-weight: normal;\n",
              "  right: .2ex;\n",
              "  padding: .5ex;\n",
              "  margin: .5ex;\n",
              "  width: min-content;\n",
              "  min-width: 20ex;\n",
              "  max-width: 50ex;\n",
              "  color: var(--sklearn-color-text);\n",
              "  box-shadow: 2pt 2pt 4pt #999;\n",
              "  /* unfitted */\n",
              "  background: var(--sklearn-color-unfitted-level-0);\n",
              "  border: .5pt solid var(--sklearn-color-unfitted-level-3);\n",
              "}\n",
              "\n",
              ".sk-estimator-doc-link.fitted span {\n",
              "  /* fitted */\n",
              "  background: var(--sklearn-color-fitted-level-0);\n",
              "  border: var(--sklearn-color-fitted-level-3);\n",
              "}\n",
              "\n",
              ".sk-estimator-doc-link:hover span {\n",
              "  display: block;\n",
              "}\n",
              "\n",
              "/* \"?\"-specific style due to the `<a>` HTML tag */\n",
              "\n",
              "#sk-container-id-1 a.estimator_doc_link {\n",
              "  float: right;\n",
              "  font-size: 1rem;\n",
              "  line-height: 1em;\n",
              "  font-family: monospace;\n",
              "  background-color: var(--sklearn-color-background);\n",
              "  border-radius: 1rem;\n",
              "  height: 1rem;\n",
              "  width: 1rem;\n",
              "  text-decoration: none;\n",
              "  /* unfitted */\n",
              "  color: var(--sklearn-color-unfitted-level-1);\n",
              "  border: var(--sklearn-color-unfitted-level-1) 1pt solid;\n",
              "}\n",
              "\n",
              "#sk-container-id-1 a.estimator_doc_link.fitted {\n",
              "  /* fitted */\n",
              "  border: var(--sklearn-color-fitted-level-1) 1pt solid;\n",
              "  color: var(--sklearn-color-fitted-level-1);\n",
              "}\n",
              "\n",
              "/* On hover */\n",
              "#sk-container-id-1 a.estimator_doc_link:hover {\n",
              "  /* unfitted */\n",
              "  background-color: var(--sklearn-color-unfitted-level-3);\n",
              "  color: var(--sklearn-color-background);\n",
              "  text-decoration: none;\n",
              "}\n",
              "\n",
              "#sk-container-id-1 a.estimator_doc_link.fitted:hover {\n",
              "  /* fitted */\n",
              "  background-color: var(--sklearn-color-fitted-level-3);\n",
              "}\n",
              "</style><div id=\"sk-container-id-1\" class=\"sk-top-container\"><div class=\"sk-text-repr-fallback\"><pre>KNeighborsClassifier()</pre><b>In a Jupyter environment, please rerun this cell to show the HTML representation or trust the notebook. <br />On GitHub, the HTML representation is unable to render, please try loading this page with nbviewer.org.</b></div><div class=\"sk-container\" hidden><div class=\"sk-item\"><div class=\"sk-estimator fitted sk-toggleable\"><input class=\"sk-toggleable__control sk-hidden--visually\" id=\"sk-estimator-id-1\" type=\"checkbox\" checked><label for=\"sk-estimator-id-1\" class=\"sk-toggleable__label fitted sk-toggleable__label-arrow fitted\">&nbsp;&nbsp;KNeighborsClassifier<a class=\"sk-estimator-doc-link fitted\" rel=\"noreferrer\" target=\"_blank\" href=\"https://scikit-learn.org/1.5/modules/generated/sklearn.neighbors.KNeighborsClassifier.html\">?<span>Documentation for KNeighborsClassifier</span></a><span class=\"sk-estimator-doc-link fitted\">i<span>Fitted</span></span></label><div class=\"sk-toggleable__content fitted\"><pre>KNeighborsClassifier()</pre></div> </div></div></div></div>"
            ]
          },
          "metadata": {},
          "execution_count": 14
        }
      ],
      "execution_count": null
    },
    {
      "cell_type": "code",
      "source": [
        "y_pred = knn.predict(X_test)"
      ],
      "metadata": {
        "execution": {
          "iopub.status.busy": "2024-06-02T08:50:27.490075Z",
          "iopub.execute_input": "2024-06-02T08:50:27.490457Z",
          "iopub.status.idle": "2024-06-02T08:50:39.836161Z",
          "shell.execute_reply.started": "2024-06-02T08:50:27.490426Z",
          "shell.execute_reply": "2024-06-02T08:50:39.835052Z"
        },
        "trusted": true,
        "id": "_Ie4-IETSp10"
      },
      "outputs": [],
      "execution_count": null
    },
    {
      "cell_type": "code",
      "source": [
        "score = accuracy_score(y_pred, y_test)\n",
        "score"
      ],
      "metadata": {
        "execution": {
          "iopub.status.busy": "2024-06-02T08:50:39.837701Z",
          "iopub.execute_input": "2024-06-02T08:50:39.838111Z",
          "iopub.status.idle": "2024-06-02T08:50:39.847396Z",
          "shell.execute_reply.started": "2024-06-02T08:50:39.838074Z",
          "shell.execute_reply": "2024-06-02T08:50:39.846145Z"
        },
        "trusted": true,
        "id": "G8aCbZERSp11",
        "outputId": "e3bef492-2e1a-4d94-f390-70ee1bb8386b",
        "colab": {
          "base_uri": "https://localhost:8080/"
        }
      },
      "outputs": [
        {
          "output_type": "execute_result",
          "data": {
            "text/plain": [
              "0.9648809523809524"
            ]
          },
          "metadata": {},
          "execution_count": 16
        }
      ],
      "execution_count": null
    },
    {
      "cell_type": "markdown",
      "source": [
        "In above steps, we get a good accuracy scores with 784 feature.\n",
        "Now with the help of PCA, we'll try to reduce the features and match the accuracy score."
      ],
      "metadata": {
        "id": "LnT8Osu4Sp13"
      }
    },
    {
      "cell_type": "code",
      "source": [
        "#In PCA, 1st step is data standarization or mean cenerization\n",
        "from sklearn.preprocessing import StandardScaler\n",
        "scaler = StandardScaler()"
      ],
      "metadata": {
        "execution": {
          "iopub.status.busy": "2024-06-02T08:50:39.848309Z",
          "iopub.execute_input": "2024-06-02T08:50:39.848593Z",
          "iopub.status.idle": "2024-06-02T08:50:39.857741Z",
          "shell.execute_reply.started": "2024-06-02T08:50:39.848569Z",
          "shell.execute_reply": "2024-06-02T08:50:39.856739Z"
        },
        "trusted": true,
        "id": "aN7oFZFRSp1-"
      },
      "outputs": [],
      "execution_count": null
    },
    {
      "cell_type": "code",
      "source": [
        "X_train = scaler.fit_transform(X_train)\n",
        "X_test = scaler.transform(X_test)"
      ],
      "metadata": {
        "execution": {
          "iopub.status.busy": "2024-06-02T08:50:39.859065Z",
          "iopub.execute_input": "2024-06-02T08:50:39.859654Z",
          "iopub.status.idle": "2024-06-02T08:50:40.356116Z",
          "shell.execute_reply.started": "2024-06-02T08:50:39.859546Z",
          "shell.execute_reply": "2024-06-02T08:50:40.354743Z"
        },
        "trusted": true,
        "id": "g3gAeDsBSp2B"
      },
      "outputs": [],
      "execution_count": null
    },
    {
      "cell_type": "code",
      "source": [
        "from sklearn.decomposition import PCA\n",
        "pca = PCA(n_components = 100)\n",
        "#n_components is the number of featured requreired,here \"None\" will result in 784 PCA\n",
        "#If we take 100 in n_components, it reasults in the Top 100 principle components\n",
        "\n",
        "X_train_withPCA = pca.fit_transform(X_train)\n",
        "X_test_withPCA = pca.transform(X_test)\n",
        "\n",
        "X_train_withPCA.shape"
      ],
      "metadata": {
        "execution": {
          "iopub.status.busy": "2024-06-02T08:50:40.357448Z",
          "iopub.execute_input": "2024-06-02T08:50:40.357761Z",
          "iopub.status.idle": "2024-06-02T08:50:43.898952Z",
          "shell.execute_reply.started": "2024-06-02T08:50:40.357735Z",
          "shell.execute_reply": "2024-06-02T08:50:43.897744Z"
        },
        "trusted": true,
        "id": "eo0N2eZpSp2C",
        "outputId": "57ad7f6f-7ea5-41aa-88b4-fff56eef8e25"
      },
      "outputs": [
        {
          "execution_count": 15,
          "output_type": "execute_result",
          "data": {
            "text/plain": "(33600, 100)"
          },
          "metadata": {}
        }
      ],
      "execution_count": null
    },
    {
      "cell_type": "code",
      "source": [
        "#We'll again train a KNN model and check accuracy\n",
        "knn = KNeighborsClassifier()\n",
        "\n",
        "knn.fit(X_train_withPCA, y_train)"
      ],
      "metadata": {
        "execution": {
          "iopub.status.busy": "2024-06-02T08:50:43.90059Z",
          "iopub.execute_input": "2024-06-02T08:50:43.901281Z",
          "iopub.status.idle": "2024-06-02T08:50:43.942082Z",
          "shell.execute_reply.started": "2024-06-02T08:50:43.901221Z",
          "shell.execute_reply": "2024-06-02T08:50:43.941169Z"
        },
        "trusted": true,
        "id": "FJYWoFU7Sp2E",
        "outputId": "9e081d13-1e9e-4402-d1a7-778fbc60e5a3"
      },
      "outputs": [
        {
          "execution_count": 16,
          "output_type": "execute_result",
          "data": {
            "text/plain": "KNeighborsClassifier()",
            "text/html": "<style>#sk-container-id-2 {color: black;background-color: white;}#sk-container-id-2 pre{padding: 0;}#sk-container-id-2 div.sk-toggleable {background-color: white;}#sk-container-id-2 label.sk-toggleable__label {cursor: pointer;display: block;width: 100%;margin-bottom: 0;padding: 0.3em;box-sizing: border-box;text-align: center;}#sk-container-id-2 label.sk-toggleable__label-arrow:before {content: \"▸\";float: left;margin-right: 0.25em;color: #696969;}#sk-container-id-2 label.sk-toggleable__label-arrow:hover:before {color: black;}#sk-container-id-2 div.sk-estimator:hover label.sk-toggleable__label-arrow:before {color: black;}#sk-container-id-2 div.sk-toggleable__content {max-height: 0;max-width: 0;overflow: hidden;text-align: left;background-color: #f0f8ff;}#sk-container-id-2 div.sk-toggleable__content pre {margin: 0.2em;color: black;border-radius: 0.25em;background-color: #f0f8ff;}#sk-container-id-2 input.sk-toggleable__control:checked~div.sk-toggleable__content {max-height: 200px;max-width: 100%;overflow: auto;}#sk-container-id-2 input.sk-toggleable__control:checked~label.sk-toggleable__label-arrow:before {content: \"▾\";}#sk-container-id-2 div.sk-estimator input.sk-toggleable__control:checked~label.sk-toggleable__label {background-color: #d4ebff;}#sk-container-id-2 div.sk-label input.sk-toggleable__control:checked~label.sk-toggleable__label {background-color: #d4ebff;}#sk-container-id-2 input.sk-hidden--visually {border: 0;clip: rect(1px 1px 1px 1px);clip: rect(1px, 1px, 1px, 1px);height: 1px;margin: -1px;overflow: hidden;padding: 0;position: absolute;width: 1px;}#sk-container-id-2 div.sk-estimator {font-family: monospace;background-color: #f0f8ff;border: 1px dotted black;border-radius: 0.25em;box-sizing: border-box;margin-bottom: 0.5em;}#sk-container-id-2 div.sk-estimator:hover {background-color: #d4ebff;}#sk-container-id-2 div.sk-parallel-item::after {content: \"\";width: 100%;border-bottom: 1px solid gray;flex-grow: 1;}#sk-container-id-2 div.sk-label:hover label.sk-toggleable__label {background-color: #d4ebff;}#sk-container-id-2 div.sk-serial::before {content: \"\";position: absolute;border-left: 1px solid gray;box-sizing: border-box;top: 0;bottom: 0;left: 50%;z-index: 0;}#sk-container-id-2 div.sk-serial {display: flex;flex-direction: column;align-items: center;background-color: white;padding-right: 0.2em;padding-left: 0.2em;position: relative;}#sk-container-id-2 div.sk-item {position: relative;z-index: 1;}#sk-container-id-2 div.sk-parallel {display: flex;align-items: stretch;justify-content: center;background-color: white;position: relative;}#sk-container-id-2 div.sk-item::before, #sk-container-id-2 div.sk-parallel-item::before {content: \"\";position: absolute;border-left: 1px solid gray;box-sizing: border-box;top: 0;bottom: 0;left: 50%;z-index: -1;}#sk-container-id-2 div.sk-parallel-item {display: flex;flex-direction: column;z-index: 1;position: relative;background-color: white;}#sk-container-id-2 div.sk-parallel-item:first-child::after {align-self: flex-end;width: 50%;}#sk-container-id-2 div.sk-parallel-item:last-child::after {align-self: flex-start;width: 50%;}#sk-container-id-2 div.sk-parallel-item:only-child::after {width: 0;}#sk-container-id-2 div.sk-dashed-wrapped {border: 1px dashed gray;margin: 0 0.4em 0.5em 0.4em;box-sizing: border-box;padding-bottom: 0.4em;background-color: white;}#sk-container-id-2 div.sk-label label {font-family: monospace;font-weight: bold;display: inline-block;line-height: 1.2em;}#sk-container-id-2 div.sk-label-container {text-align: center;}#sk-container-id-2 div.sk-container {/* jupyter's `normalize.less` sets `[hidden] { display: none; }` but bootstrap.min.css set `[hidden] { display: none !important; }` so we also need the `!important` here to be able to override the default hidden behavior on the sphinx rendered scikit-learn.org. See: https://github.com/scikit-learn/scikit-learn/issues/21755 */display: inline-block !important;position: relative;}#sk-container-id-2 div.sk-text-repr-fallback {display: none;}</style><div id=\"sk-container-id-2\" class=\"sk-top-container\"><div class=\"sk-text-repr-fallback\"><pre>KNeighborsClassifier()</pre><b>In a Jupyter environment, please rerun this cell to show the HTML representation or trust the notebook. <br />On GitHub, the HTML representation is unable to render, please try loading this page with nbviewer.org.</b></div><div class=\"sk-container\" hidden><div class=\"sk-item\"><div class=\"sk-estimator sk-toggleable\"><input class=\"sk-toggleable__control sk-hidden--visually\" id=\"sk-estimator-id-2\" type=\"checkbox\" checked><label for=\"sk-estimator-id-2\" class=\"sk-toggleable__label sk-toggleable__label-arrow\">KNeighborsClassifier</label><div class=\"sk-toggleable__content\"><pre>KNeighborsClassifier()</pre></div></div></div></div></div>"
          },
          "metadata": {}
        }
      ],
      "execution_count": null
    },
    {
      "cell_type": "code",
      "source": [
        "y_pred_withPCA = knn.predict(X_test_withPCA)\n",
        "score = accuracy_score(y_pred_withPCA, y_test)\n",
        "score"
      ],
      "metadata": {
        "execution": {
          "iopub.status.busy": "2024-06-02T08:50:43.94374Z",
          "iopub.execute_input": "2024-06-02T08:50:43.944477Z",
          "iopub.status.idle": "2024-06-02T08:50:46.027594Z",
          "shell.execute_reply.started": "2024-06-02T08:50:43.944436Z",
          "shell.execute_reply": "2024-06-02T08:50:46.02636Z"
        },
        "trusted": true,
        "id": "T0sgdzQ1Sp2F",
        "outputId": "1dc22eb2-8d0f-454f-ccbd-e2cd1bbaf8da"
      },
      "outputs": [
        {
          "execution_count": 17,
          "output_type": "execute_result",
          "data": {
            "text/plain": "0.9536904761904762"
          },
          "metadata": {}
        }
      ],
      "execution_count": null
    },
    {
      "cell_type": "markdown",
      "source": [
        "We got almost same accuracy with 100 Principle components, instead of 784 feature.\n",
        "\n"
      ],
      "metadata": {
        "id": "ooD_8xlTSp2H"
      }
    },
    {
      "cell_type": "code",
      "source": [
        "pca.explained_variance_\n",
        "#explained_variance_ are the eigen values\n",
        "#Since,we've taken n_components = 100, it wil result in 100 eigen values"
      ],
      "metadata": {
        "execution": {
          "iopub.status.busy": "2024-06-02T08:50:46.028908Z",
          "iopub.execute_input": "2024-06-02T08:50:46.029242Z",
          "iopub.status.idle": "2024-06-02T08:50:46.03887Z",
          "shell.execute_reply.started": "2024-06-02T08:50:46.0292Z",
          "shell.execute_reply": "2024-06-02T08:50:46.03772Z"
        },
        "trusted": true,
        "id": "l2nAHWk9Sp2I",
        "outputId": "8e58a86c-4120-47d4-88dc-d82923f7fd6a"
      },
      "outputs": [
        {
          "execution_count": 18,
          "output_type": "execute_result",
          "data": {
            "text/plain": "array([40.67111198, 29.17023401, 26.74459621, 20.85344791, 18.14891878,\n       15.85298249, 13.87108095, 12.48058955, 11.02794219, 10.09582463,\n        9.63317775,  8.62785873,  8.06302959,  7.89511441,  7.44167543,\n        7.17032628,  6.73265634,  6.62743251,  6.41497833,  6.25806481,\n        5.90494271,  5.7651663 ,  5.52082045,  5.31994074,  5.18304714,\n        4.93423579,  4.90640854,  4.7178607 ,  4.49802048,  4.43103641,\n        4.32587509,  4.23454673,  4.10290016,  4.06671317,  4.02326394,\n        3.84107984,  3.81823678,  3.71158798,  3.60816722,  3.47177458,\n        3.42436542,  3.38757777,  3.28974522,  3.22733296,  3.21444863,\n        3.15553478,  3.1240039 ,  3.10116282,  3.05692247,  3.03400258,\n        2.96158049,  2.93721567,  2.86549133,  2.82077379,  2.79440906,\n        2.77107675,  2.71294197,  2.68884792,  2.63968862,  2.62352768,\n        2.54962369,  2.52994632,  2.48226428,  2.43688571,  2.41161393,\n        2.36081549,  2.33561213,  2.3187809 ,  2.27594326,  2.24140449,\n        2.20594156,  2.16280869,  2.15830715,  2.11363319,  2.10151389,\n        2.08421928,  2.06603191,  2.04713307,  2.0208613 ,  1.99386128,\n        1.98168763,  1.97012337,  1.95438743,  1.94884002,  1.91039674,\n        1.89476497,  1.85766831,  1.83839586,  1.83006157,  1.81212461,\n        1.7990015 ,  1.77277513,  1.74515919,  1.7324196 ,  1.72038877,\n        1.69305023,  1.66273814,  1.64746977,  1.64111419,  1.60551252])"
          },
          "metadata": {}
        }
      ],
      "execution_count": null
    },
    {
      "cell_type": "code",
      "source": [
        "pca.components_\n",
        "\n",
        "#components_ will show the eigen vectors\n",
        "#Since,we've taken n_components = 100, it wil result in 100 eigen vectors"
      ],
      "metadata": {
        "execution": {
          "iopub.status.busy": "2024-06-02T08:53:40.201572Z",
          "iopub.execute_input": "2024-06-02T08:53:40.201975Z",
          "iopub.status.idle": "2024-06-02T08:53:40.210101Z",
          "shell.execute_reply.started": "2024-06-02T08:53:40.201936Z",
          "shell.execute_reply": "2024-06-02T08:53:40.209178Z"
        },
        "trusted": true,
        "id": "Pg5-GPE4Sp2L",
        "outputId": "681a8701-2ae0-49c4-e9b8-35902d9fb465"
      },
      "outputs": [
        {
          "execution_count": 23,
          "output_type": "execute_result",
          "data": {
            "text/plain": "array([[-8.30641960e-18, -4.84009911e-18,  3.34166492e-19, ...,\n        -0.00000000e+00, -0.00000000e+00, -0.00000000e+00],\n       [-9.72005847e-18,  2.59800472e-18,  2.34953657e-18, ...,\n         0.00000000e+00,  0.00000000e+00,  0.00000000e+00],\n       [-5.44950182e-17, -1.39678605e-17,  8.91310308e-18, ...,\n         0.00000000e+00,  0.00000000e+00,  0.00000000e+00],\n       ...,\n       [ 5.40473934e-17,  2.47825416e-17, -3.93305328e-17, ...,\n        -0.00000000e+00, -0.00000000e+00, -0.00000000e+00],\n       [-1.37404787e-18,  2.89722788e-17,  5.56842628e-17, ...,\n         0.00000000e+00,  0.00000000e+00,  0.00000000e+00],\n       [-1.99737859e-17,  4.41165510e-18,  2.25059721e-17, ...,\n         0.00000000e+00,  0.00000000e+00,  0.00000000e+00]])"
          },
          "metadata": {}
        }
      ],
      "execution_count": null
    },
    {
      "cell_type": "code",
      "source": [
        "pca.components_.shape"
      ],
      "metadata": {
        "execution": {
          "iopub.status.busy": "2024-06-02T08:55:13.680419Z",
          "iopub.execute_input": "2024-06-02T08:55:13.680789Z",
          "iopub.status.idle": "2024-06-02T08:55:13.688195Z",
          "shell.execute_reply.started": "2024-06-02T08:55:13.680762Z",
          "shell.execute_reply": "2024-06-02T08:55:13.686963Z"
        },
        "trusted": true,
        "id": "qF4J3oI2Sp2M",
        "outputId": "743db682-22f8-4b1f-bb6d-0e4e529c4024"
      },
      "outputs": [
        {
          "execution_count": 24,
          "output_type": "execute_result",
          "data": {
            "text/plain": "(100, 784)"
          },
          "metadata": {}
        }
      ],
      "execution_count": null
    },
    {
      "cell_type": "markdown",
      "source": [
        "**Let's find out the optimum number of principle components:**\n",
        "\n",
        "For this, we have to convert eigen values in percentage to undertand, how much variance in the data is explained by each eigen value. Now, we add the percentage of each eigen values unless we reach atleast 90%."
      ],
      "metadata": {
        "id": "YWKbzTuRSp2N"
      }
    },
    {
      "cell_type": "code",
      "source": [
        "pca.explained_variance_ratio_ * 100"
      ],
      "metadata": {
        "execution": {
          "iopub.status.busy": "2024-06-02T09:05:54.82116Z",
          "iopub.execute_input": "2024-06-02T09:05:54.821538Z",
          "iopub.status.idle": "2024-06-02T09:05:54.828876Z",
          "shell.execute_reply.started": "2024-06-02T09:05:54.821512Z",
          "shell.execute_reply": "2024-06-02T09:05:54.827918Z"
        },
        "trusted": true,
        "id": "pWGn6kFvSp2O",
        "outputId": "28e33bb2-3ac8-483f-d1c6-8479870fe10f"
      },
      "outputs": [
        {
          "execution_count": 26,
          "output_type": "execute_result",
          "data": {
            "text/plain": "array([5.78519225, 4.14926968, 3.80423901, 2.96626277, 2.58156168,\n       2.25498018, 1.97306801, 1.77527996, 1.56865064, 1.43606318,\n       1.37025477, 1.2272549 , 1.14691175, 1.12302695, 1.0585283 ,\n       1.01993071, 0.9576751 , 0.94270772, 0.91248754, 0.89016765,\n       0.8399384 , 0.82005615, 0.78529959, 0.75672581, 0.73725361,\n       0.70186187, 0.69790363, 0.67108397, 0.63981317, 0.63028514,\n       0.61532665, 0.6023358 , 0.58360996, 0.57846261, 0.57228225,\n       0.54636778, 0.54311851, 0.52794844, 0.51323753, 0.49383659,\n       0.48709296, 0.48186016, 0.46794414, 0.45906642, 0.45723371,\n       0.44885361, 0.44436855, 0.44111956, 0.43482667, 0.43156647,\n       0.42126491, 0.41779918, 0.40759688, 0.40123611, 0.3974859 ,\n       0.39416704, 0.38589776, 0.38247054, 0.37547796, 0.37317917,\n       0.36266683, 0.35986786, 0.35308541, 0.34663061, 0.34303587,\n       0.33581013, 0.33222512, 0.32983099, 0.32373763, 0.31882472,\n       0.31378036, 0.307645  , 0.30700468, 0.30065011, 0.29892622,\n       0.29646618, 0.29387915, 0.29119092, 0.28745393, 0.28361336,\n       0.28188174, 0.2802368 , 0.27799847, 0.27720939, 0.27174109,\n       0.26951758, 0.26424083, 0.26149945, 0.26031396, 0.25776254,\n       0.25589587, 0.25216534, 0.24823716, 0.24642504, 0.24471374,\n       0.24082501, 0.23651332, 0.2343415 , 0.23343746, 0.22837336])"
          },
          "metadata": {}
        }
      ],
      "execution_count": null
    },
    {
      "cell_type": "markdown",
      "source": [
        "First Eigen value explains 5.78519225% variance in the data, Second  Eigen value explains 4.14926968% variance and so on.\n",
        "**np.cumsum** can be used to find the cumulative sum."
      ],
      "metadata": {
        "id": "P2fiQMGlSp2P"
      }
    },
    {
      "cell_type": "code",
      "source": [
        "np.cumsum(pca.explained_variance_ratio_ * 100)"
      ],
      "metadata": {
        "execution": {
          "iopub.status.busy": "2024-06-02T09:11:53.280891Z",
          "iopub.execute_input": "2024-06-02T09:11:53.281285Z",
          "iopub.status.idle": "2024-06-02T09:11:53.290197Z",
          "shell.execute_reply.started": "2024-06-02T09:11:53.281256Z",
          "shell.execute_reply": "2024-06-02T09:11:53.289251Z"
        },
        "trusted": true,
        "id": "dd8fvKyPSp2Q",
        "outputId": "9e3460b2-cf69-4afc-a287-6faa0f2317bc"
      },
      "outputs": [
        {
          "execution_count": 27,
          "output_type": "execute_result",
          "data": {
            "text/plain": "array([ 5.78519225,  9.93446193, 13.73870094, 16.70496371, 19.28652539,\n       21.54150558, 23.51457359, 25.28985355, 26.85850418, 28.29456736,\n       29.66482214, 30.89207703, 32.03898879, 33.16201573, 34.22054404,\n       35.24047474, 36.19814985, 37.14085756, 38.0533451 , 38.94351275,\n       39.78345115, 40.6035073 , 41.38880689, 42.1455327 , 42.88278631,\n       43.58464818, 44.28255181, 44.95363578, 45.59344895, 46.22373409,\n       46.83906074, 47.44139654, 48.02500651, 48.60346911, 49.17575136,\n       49.72211915, 50.26523766, 50.7931861 , 51.30642363, 51.80026022,\n       52.28735318, 52.76921334, 53.23715748, 53.6962239 , 54.15345761,\n       54.60231122, 55.04667977, 55.48779933, 55.922626  , 56.35419247,\n       56.77545738, 57.19325657, 57.60085344, 58.00208955, 58.39957545,\n       58.79374249, 59.17964025, 59.56211079, 59.93758875, 60.31076792,\n       60.67343475, 61.03330261, 61.38638801, 61.73301862, 62.07605449,\n       62.41186462, 62.74408975, 63.07392074, 63.39765837, 63.71648309,\n       64.03026344, 64.33790844, 64.64491312, 64.94556323, 65.24448946,\n       65.54095564, 65.83483479, 66.1260257 , 66.41347964, 66.697093  ,\n       66.97897474, 67.25921155, 67.53721002, 67.81441941, 68.0861605 ,\n       68.35567808, 68.61991891, 68.88141836, 69.14173232, 69.39949486,\n       69.65539073, 69.90755608, 70.15579324, 70.40221828, 70.64693202,\n       70.88775703, 71.12427035, 71.35861185, 71.59204931, 71.82042267])"
          },
          "metadata": {}
        }
      ],
      "execution_count": null
    },
    {
      "cell_type": "code",
      "source": [
        "#We can plot the data to see which is the optimal point\n",
        "plt.plot(np.cumsum(pca.explained_variance_ratio_ * 100))"
      ],
      "metadata": {
        "execution": {
          "iopub.status.busy": "2024-06-02T09:15:30.701608Z",
          "iopub.execute_input": "2024-06-02T09:15:30.702014Z",
          "iopub.status.idle": "2024-06-02T09:15:30.967294Z",
          "shell.execute_reply.started": "2024-06-02T09:15:30.701956Z",
          "shell.execute_reply": "2024-06-02T09:15:30.96606Z"
        },
        "trusted": true,
        "id": "rSuvC-R5Sp2R",
        "outputId": "64e21182-f13d-4b37-f8ef-3c754819fbcb"
      },
      "outputs": [
        {
          "execution_count": 29,
          "output_type": "execute_result",
          "data": {
            "text/plain": "[<matplotlib.lines.Line2D at 0x7c5ef4f2bb20>]"
          },
          "metadata": {}
        },
        {
          "output_type": "display_data",
          "data": {
            "text/plain": "<Figure size 640x480 with 1 Axes>",
            "image/png": "[encoded data removed]"
          },
          "metadata": {}
        }
      ],
      "execution_count": null
    },
    {
      "cell_type": "markdown",
      "source": [
        "Since we have taken n_components = 100, it's explaining max 71.82042267% variance."
      ],
      "metadata": {
        "id": "9jAVcCOmSp2S"
      }
    }
  ]
}